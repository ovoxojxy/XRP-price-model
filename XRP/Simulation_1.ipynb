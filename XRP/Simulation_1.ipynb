{
 "cells": [
  {
   "cell_type": "code",
   "execution_count": null,
   "metadata": {},
   "outputs": [],
   "source": [
    "# Monte Carlo simulation assuming\n",
    "# Gain ranges: 2% - 8%\n",
    "# Loss ranges: 2& - 6%\n",
    "# 52 cyles (one per week)"
   ]
  },
  {
   "cell_type": "code",
   "execution_count": 1,
   "metadata": {},
   "outputs": [],
   "source": [
    "import numpy as np\n",
    "import matplotlib.pyplot as plt"
   ]
  },
  {
   "cell_type": "code",
   "execution_count": null,
   "metadata": {},
   "outputs": [],
   "source": [
    "S0 = 2.30 #initail share price\n",
    "n_cycles = 52 # number of cycles (weeks in a year)\n",
    "n_simulations = 10000 # number of monte carlo simulations\n",
    "\n",
    "gain_min = .02 #Minimum gain 2%\n",
    "gain_max = .08 #max gain 8%\n",
    "loss_min = .02 #min loss\n",
    "loss_max = .06 #max loss\n",
    "\n",
    "final_prices = []\n",
    "\n",
    "for _ in range(n_simulations):\n",
    "    price = 50 \n",
    "    for _ in range(n_cycles):\n",
    "        # \n",
    "        gain = np.random.uniform(gain_min, gain_max)\n",
    "        loss = np.random.uniform(loss_min, loss_max)\n",
    "        #\n",
    "        price *= (1 + gain)\n",
    "        price *= (1 - loss)\n",
    "    final_prices.append(price)\n",
    "\n",
    "mean_price = np.mean(final_prices)\n",
    "median_price = np.median(final_prices)\n",
    "percentile_5 = np.percentile(final_prices, 5)\n",
    "percentile_95 = np.percentile(final_prices, 95)\n",
    "\n",
    "plt.figure(figsize=(12, 6))\n",
    "plt.hist(final_prices, bins=50, density=True, alpha=0.7,  edgecolor='black')\n",
    "plt.axvline(mean_price, color='blue', linstyle='--', label=f'Mean: ${mean_price:.2f}')\n",
    "plt.axvline(median_price, color='green', linestyle='--', label)\n",
    "plt.axvline\n",
    "plt.axvline\n",
    "\n",
    "\n",
    "\n",
    "\n",
    "\n",
    "\n"
   ]
  }
 ],
 "metadata": {
  "kernelspec": {
   "display_name": "base",
   "language": "python",
   "name": "python3"
  },
  "language_info": {
   "codemirror_mode": {
    "name": "ipython",
    "version": 3
   },
   "file_extension": ".py",
   "mimetype": "text/x-python",
   "name": "python",
   "nbconvert_exporter": "python",
   "pygments_lexer": "ipython3",
   "version": "3.11.7"
  }
 },
 "nbformat": 4,
 "nbformat_minor": 2
}
