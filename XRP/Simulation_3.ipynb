{
 "cells": [
  {
   "cell_type": "code",
   "execution_count": 1,
   "metadata": {},
   "outputs": [],
   "source": [
    "#alternative scenarios with varying gains/losses\n",
    "import numpy as np\n",
    "import matplotlib.pyplot as plt"
   ]
  },
  {
   "cell_type": "code",
   "execution_count": 2,
   "metadata": {},
   "outputs": [],
   "source": [
    "scenarios = {\n",
    "    \"Baseline\": {\"gain_min\": 0.02, \"gain_max\": 0.08, \"loss_min\": 0.02, \"loss_max\": 0.06},\n",
    "    \"Conservative\": {\"gain_min\": 0.01, \"gain_max\": 0.05, \"loss_min\": 0.01, \"loss_max\": 0.03},\n",
    "    \"Aggressive\": {\"gain_min\": 0.05, \"gain_max\": 0.12, \"loss_min\": 0.03, \"loss_max\": 0.08},\n",
    "    \"Neutral\": {\"gain_min\": 0.03, \"gain_max\": 0.07, \"loss_min\": 0.02, \"loss_max\": 0.04},\n",
    "    \"High Gains, Low Losses\": {\"gain_min\": 0.04, \"gain_max\": 0.10, \"loss_min\": 0.01, \"loss_max\": 0.03},\n",
    "}\n",
    "P0 = 115\n",
    "S0 = 2.30 #initail share price\n",
    "n_cycles = 52 # number of cycles (weeks in a year)\n",
    "n_simulations = 10000 # number of monte carlo simulations"
   ]
  },
  {
   "cell_type": "code",
   "execution_count": 3,
   "metadata": {},
   "outputs": [],
   "source": [
    "scenario_results = {}\n",
    "\n",
    "for scenario, params in scenarios.items():\n",
    "    final_values = []\n",
    "    for _ in range(n_simulations):\n",
    "        investment = P0\n",
    "        shares = investment / S0\n",
    "\n",
    "        for _ in range(n_cycles):\n",
    "            gain = np.random.uniform(params[\"gain_min\"], params[\"gain_max\"])\n",
    "            loss = np.random.uniform(params[\"loss_min\"], params[\"loss_max\"])\n",
    "            investment = shares * (1 + gain) * S0\n",
    "            investment *= (1 - loss)\n",
    "            shares = investment / (S0 * (1 - loss))\n",
    "\n",
    "        final_values.append(investment)\n",
    "\n",
    "    scenario_results[scenario] = {\n",
    "        \"mean\": np.mean(final_values),\n",
    "        \"median\": np.median(final_values),\n",
    "        \"percentile_5\": np.percentile(final_values, 5),\n",
    "        \"percentile_95\": np.percentile(final_values, 95)\n",
    "    }\n"
   ]
  },
  {
   "cell_type": "code",
   "execution_count": 7,
   "metadata": {},
   "outputs": [
    {
     "data": {
      "text/html": [
       "<div>\n",
       "<style scoped>\n",
       "    .dataframe tbody tr th:only-of-type {\n",
       "        vertical-align: middle;\n",
       "    }\n",
       "\n",
       "    .dataframe tbody tr th {\n",
       "        vertical-align: top;\n",
       "    }\n",
       "\n",
       "    .dataframe thead th {\n",
       "        text-align: right;\n",
       "    }\n",
       "</style>\n",
       "<table border=\"1\" class=\"dataframe\">\n",
       "  <thead>\n",
       "    <tr style=\"text-align: right;\">\n",
       "      <th></th>\n",
       "      <th>mean</th>\n",
       "      <th>median</th>\n",
       "      <th>percentile_5</th>\n",
       "      <th>percentile_95</th>\n",
       "    </tr>\n",
       "  </thead>\n",
       "  <tbody>\n",
       "    <tr>\n",
       "      <th>Baseline</th>\n",
       "      <td>1395.841667</td>\n",
       "      <td>1384.595629</td>\n",
       "      <td>1135.784471</td>\n",
       "      <td>1695.496260</td>\n",
       "    </tr>\n",
       "    <tr>\n",
       "      <th>Conservative</th>\n",
       "      <td>523.730288</td>\n",
       "      <td>521.845188</td>\n",
       "      <td>456.413375</td>\n",
       "      <td>596.663272</td>\n",
       "    </tr>\n",
       "    <tr>\n",
       "      <th>Aggressive</th>\n",
       "      <td>7551.352365</td>\n",
       "      <td>7493.346140</td>\n",
       "      <td>5984.016411</td>\n",
       "      <td>9342.908085</td>\n",
       "    </tr>\n",
       "    <tr>\n",
       "      <th>Neutral</th>\n",
       "      <td>1409.476485</td>\n",
       "      <td>1404.985287</td>\n",
       "      <td>1231.033073</td>\n",
       "      <td>1603.894316</td>\n",
       "    </tr>\n",
       "    <tr>\n",
       "      <th>High Gains, Low Losses</th>\n",
       "      <td>3798.011164</td>\n",
       "      <td>3769.662314</td>\n",
       "      <td>3101.315393</td>\n",
       "      <td>4577.856582</td>\n",
       "    </tr>\n",
       "  </tbody>\n",
       "</table>\n",
       "</div>"
      ],
      "text/plain": [
       "                               mean       median  percentile_5  percentile_95\n",
       "Baseline                1395.841667  1384.595629   1135.784471    1695.496260\n",
       "Conservative             523.730288   521.845188    456.413375     596.663272\n",
       "Aggressive              7551.352365  7493.346140   5984.016411    9342.908085\n",
       "Neutral                 1409.476485  1404.985287   1231.033073    1603.894316\n",
       "High Gains, Low Losses  3798.011164  3769.662314   3101.315393    4577.856582"
      ]
     },
     "execution_count": 7,
     "metadata": {},
     "output_type": "execute_result"
    }
   ],
   "source": [
    "import pandas as pd\n",
    "scenario_df = pd.DataFrame(scenario_results).T\n",
    "\n",
    "scenario_df"
   ]
  },
  {
   "cell_type": "code",
   "execution_count": null,
   "metadata": {},
   "outputs": [],
   "source": []
  }
 ],
 "metadata": {
  "kernelspec": {
   "display_name": "base",
   "language": "python",
   "name": "python3"
  },
  "language_info": {
   "codemirror_mode": {
    "name": "ipython",
    "version": 3
   },
   "file_extension": ".py",
   "mimetype": "text/x-python",
   "name": "python",
   "nbconvert_exporter": "python",
   "pygments_lexer": "ipython3",
   "version": "3.11.7"
  }
 },
 "nbformat": 4,
 "nbformat_minor": 2
}
