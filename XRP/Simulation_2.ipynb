{
 "cells": [
  {
   "cell_type": "code",
   "execution_count": 2,
   "metadata": {},
   "outputs": [],
   "source": [
    "#outlook based on estimated equation and weekly variability\n",
    "import numpy as np\n",
    "import matplotlib.pyplot as plt\n",
    "\n"
   ]
  },
  {
   "cell_type": "code",
   "execution_count": null,
   "metadata": {},
   "outputs": [],
   "source": [
    "# Parameters for outlook calculation\n",
    "P0 = 115\n",
    "S0 = 2.30\n",
    "n_cycles = 52\n",
    "n_simulations = 10000\n",
    "\n",
    "gain_min = .02 #Minimum gain 2%\n",
    "gain_max = .08 #max gain 8%\n",
    "loss_min = .02 #min loss\n",
    "loss_max = .06 #max loss\n",
    "\n",
    "final_portfolio_values = []\n",
    "\n",
    "for _ in range(n_simulations):\n",
    "    investment = P0\n",
    "    shares = investment / S0\n",
    "\n",
    "    for _ in range(n_cycles):\n",
    "        #\n",
    "        gain = np.random.uniform(gain_min, gain_max)\n",
    "        loss = np.random.uniform(loss_min, loss_max)\n",
    "\n",
    "        #\n",
    "        investment = shares * (1 + gain) * S0\n",
    "\n",
    "        #\n",
    "        investment *= (1 - loss)\n",
    "        shares = investment / (S0 * (1 - loss))\n",
    "\n",
    "    final_portfolio_values.append(investment)\n",
    "\n",
    "#\n",
    "mean_portfolio = np.mean(final_portfolio_values)\n",
    "median_portfolio = np.median(final_portfolio_values)\n",
    "percentile_5_portfolio = np.percentile(final_portfolio_values, 5)\n",
    "percentile_95_portfolio = np.percentile(final_portfolio_values, 95)\n",
    "\n",
    "\n",
    "# Plot the distribution of final portfolio values\n",
    "plt.figure(figsize=(12, 6))\n",
    "plt.hist(final_portfolio_values, bins=50, density=True, alpha=0.7, edgecolor='black')\n",
    "plt.axvline(mean_portfolio, color='blue', linestyle='--', label=f'Mean: ${mean_portfolio:.2f}')\n",
    "plt.axvline(median_portfolio, color='green', linestyle='--', label=f'Median: ${median_portfolio:.2f}')\n",
    "plt.axvline(percentile_5_portfolio, color='red', linestyle='--', label=f'5th Percentile: ${percentile_5_portfolio:.2f}')\n",
    "plt.axvline(percentile_95_portfolio, color='purple', linestyle='--', label=f'95th Percentile: ${percentile_95_portfolio:.2f}')\n",
    "plt.title('Monte Carlo Simulation of Final Portfolio Value After 52 Cycles with Reinvestment')\n",
    "plt.xlabel('Final Portfolio Value ($)')\n",
    "plt.ylabel('Frequency')\n",
    "plt.legend()\n",
    "plt.show()\n",
    "\n",
    "# Return key statistical results\n",
    "mean_portfolio, median_portfolio, percentile_5_portfolio, percentile_95_portfolio"
   ]
  }
 ],
 "metadata": {
  "kernelspec": {
   "display_name": "base",
   "language": "python",
   "name": "python3"
  },
  "language_info": {
   "codemirror_mode": {
    "name": "ipython",
    "version": 3
   },
   "file_extension": ".py",
   "mimetype": "text/x-python",
   "name": "python",
   "nbconvert_exporter": "python",
   "pygments_lexer": "ipython3",
   "version": "3.11.7"
  }
 },
 "nbformat": 4,
 "nbformat_minor": 2
}
